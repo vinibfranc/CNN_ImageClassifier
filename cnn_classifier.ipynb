{
 "cells": [
  {
   "cell_type": "code",
   "execution_count": 65,
   "metadata": {
    "collapsed": true
   },
   "outputs": [],
   "source": [
    "import os\n",
    "from shutil import copyfile\n",
    "\n",
    "path = \"C:\\\\Users\\\\viniciusfr\\\\Desktop\\\\LIDC-IDRI\"\n",
    "cont = 0\n",
    "for root, dirs, files in os.walk(path):\n",
    "    ##os.rename(\"root\\\\\"+'000040.dcm', \"C:\\\\Users\\\\viniciusfr\\\\Desktop\\\\dicoms\\\\\",cont+\".dcm\")\n",
    "    ##print(root+\"\\\\\"+'000040.dcm')\n",
    "    if(os.path.exists(root+\"\\\\\"+'000040.dcm')):\n",
    "        copyfile(root+\"\\\\\"+'000040.dcm', \"C:\\\\Users\\\\viniciusfr\\\\Desktop\\\\dicoms\\\\\"+str(root.split(\"\\\\\", 6)[5])+\".dcm\")\n",
    "        cont+=1\n",
    "                \n",
    "              #  print(subdirectory)\n",
    "\n",
    "    ##for name in files:\n"
   ]
  },
  {
   "cell_type": "code",
   "execution_count": 1,
   "metadata": {
    "scrolled": true
   },
   "outputs": [
    {
     "name": "stderr",
     "output_type": "stream",
     "text": [
      "C:\\ProgramData\\Anaconda3\\lib\\site-packages\\h5py\\__init__.py:34: FutureWarning: Conversion of the second argument of issubdtype from `float` to `np.floating` is deprecated. In future, it will be treated as `np.float64 == np.dtype(float).type`.\n",
      "  from ._conv import register_converters as _register_converters\n",
      "Using TensorFlow backend.\n"
     ]
    }
   ],
   "source": [
    "# Installing Anaconda on Ubuntu: https://www.digitalocean.com/community/tutorials/how-to-install-anaconda-on-ubuntu-18-04-quickstart\n",
    "# Installing dependencies of this project: pip install -r requirements.txt\n",
    "# This code was based on: https://medium.com/nybles/create-your-first-image-recognition-classifier-using-cnn-keras-and-tensorflow-backend-6eaab98d14dd\n",
    "\n",
    "# Import libs\n",
    "\n",
    "import os\n",
    "from glob import glob\n",
    "import numpy as np\n",
    "import pandas as pd\n",
    "import keras\n",
    "import png\n",
    "import pydicom\n",
    "\n",
    "from keras.preprocessing.image import ImageDataGenerator\n",
    "\n",
    "# CNN libraries\n",
    "from keras.models import Sequential\n",
    "from keras.layers import Activation, Dropout, Flatten, Dense\n",
    "from keras.layers import Convolution2D, MaxPooling2D, ZeroPadding2D\n",
    "import keras.backend as K\n",
    "\n",
    "# Train and test library\n",
    "from sklearn.model_selection import train_test_split"
   ]
  },
  {
   "cell_type": "code",
   "execution_count": 3,
   "metadata": {},
   "outputs": [
    {
     "name": "stdout",
     "output_type": "stream",
     "text": [
      "C:\\Users\\marcosvlp\\Desktop\\CNN_ImageClassifier-master\\img\\train\\LIDC-IDRI-0578.dcm\n",
      "C:\\Users\\marcosvlp\\Desktop\\CNN_ImageClassifier-master\\img\\train\\LIDC-IDRI-0578.dcm\n",
      "C:\\Users\\marcosvlp\\Desktop\\CNN_ImageClassifier-master\\img\\train\\LIDC-IDRI-0579.dcm\n",
      "C:\\Users\\marcosvlp\\Desktop\\CNN_ImageClassifier-master\\img\\train\\LIDC-IDRI-0579.dcm\n",
      "C:\\Users\\marcosvlp\\Desktop\\CNN_ImageClassifier-master\\img\\train\\LIDC-IDRI-0580.dcm\n",
      "C:\\Users\\marcosvlp\\Desktop\\CNN_ImageClassifier-master\\img\\train\\LIDC-IDRI-0580.dcm\n",
      "C:\\Users\\marcosvlp\\Desktop\\CNN_ImageClassifier-master\\img\\test\\LIDC-IDRI-0578.dcm\n",
      "C:\\Users\\marcosvlp\\Desktop\\CNN_ImageClassifier-master\\img\\test\\LIDC-IDRI-0578.dcm\n",
      "C:\\Users\\marcosvlp\\Desktop\\CNN_ImageClassifier-master\\img\\test\\LIDC-IDRI-0579.dcm\n",
      "C:\\Users\\marcosvlp\\Desktop\\CNN_ImageClassifier-master\\img\\test\\LIDC-IDRI-0579.dcm\n",
      "C:\\Users\\marcosvlp\\Desktop\\CNN_ImageClassifier-master\\img\\test\\LIDC-IDRI-0580.dcm\n",
      "C:\\Users\\marcosvlp\\Desktop\\CNN_ImageClassifier-master\\img\\test\\LIDC-IDRI-0580.dcm\n"
     ]
    }
   ],
   "source": [
    "# Step 2: Transforming to PNG and Resizing images  \n",
    "\n",
    "# Transform to PNG\n",
    "# <-------TO DO--------->\n",
    "\n",
    "\n",
    "# Resizing to 64x64\n",
    "from PIL import Image\n",
    "\n",
    "paths = ['C:\\\\Users\\\\marcosvlp\\\\Desktop\\\\CNN_ImageClassifier-master\\\\img\\\\train', 'C:\\\\Users\\\\marcosvlp\\\\Desktop\\\\CNN_ImageClassifier-master\\\\img\\\\test']\n",
    "destination = 'C:\\\\Users\\\\marcosvlp\\\\Desktop\\\\CNN_ImageClassifier-master\\\\img'\n",
    "\n",
    "\n",
    "for path in paths:\n",
    "    for root, dirs, files in os.walk(path):\n",
    "        ##os.rename(\"root\\\\\"+'000040.dcm', \"C:\\\\Users\\\\viniciusfr\\\\Desktop\\\\dicoms\\\\\",cont+\".dcm\")\n",
    "        ##print(root+\"\\\\\"+'000040.dcm')\n",
    "        for file in files:\n",
    "            if(file.endswith('.dcm')):\n",
    "                    temp = path+'\\\\'+file\n",
    "                    print(temp)\n",
    "                    ds = pydicom.dcmread(temp)\n",
    "                    print(temp)\n",
    "\n",
    "                    shape = ds.pixel_array.shape\n",
    "\n",
    "                    #Convert to float to avoid overflow or underflow losses.\n",
    "                    image_2d = ds.pixel_array.astype(float)\n",
    "\n",
    "                    #Rescaling grey scale between 0-255\n",
    "                    image_2d_scaled = (np.maximum(image_2d,0) / image_2d.max()) * 255.0\n",
    "\n",
    "                    # Convert to uint\n",
    "                    image_2d_scaled = np.uint8(image_2d_scaled)\n",
    "\n",
    "                    # Write the PNG file\n",
    "                    dest = path+'\\\\'+file+'.png'\n",
    "                    with open(dest, 'wb') as png_file:\n",
    "                        w = png.Writer(shape[1], shape[0], greyscale=True)\n",
    "                        w.write(png_file, image_2d_scaled)\n",
    "                        \n",
    "                    im = Image.open(dest)\n",
    "                    f, e = os.path.splitext(dest)\n",
    "                    imResize = im.resize((512,512), Image.ANTIALIAS)\n",
    "                    imResize.save(f + '.png', 'PNG', quality=100)\n",
    "\n",
    "        \n",
    "        \n",
    "    \n"
   ]
  },
  {
   "cell_type": "code",
   "execution_count": 5,
   "metadata": {},
   "outputs": [
    {
     "name": "stderr",
     "output_type": "stream",
     "text": [
      "C:\\ProgramData\\Anaconda3\\lib\\site-packages\\ipykernel_launcher.py:8: UserWarning: Update your `Conv2D` call to the Keras 2 API: `Conv2D(32, (3, 3), input_shape=(64, 64, 3..., activation=\"relu\")`\n",
      "  \n",
      "C:\\ProgramData\\Anaconda3\\lib\\site-packages\\ipykernel_launcher.py:13: UserWarning: Update your `Conv2D` call to the Keras 2 API: `Conv2D(32, (3, 3))`\n",
      "  del sys.path[0]\n",
      "C:\\ProgramData\\Anaconda3\\lib\\site-packages\\ipykernel_launcher.py:18: UserWarning: Update your `Conv2D` call to the Keras 2 API: `Conv2D(64, (3, 3))`\n",
      "C:\\ProgramData\\Anaconda3\\lib\\site-packages\\ipykernel_launcher.py:26: UserWarning: Update your `Dense` call to the Keras 2 API: `Dense(activation=\"relu\", units=128)`\n",
      "C:\\ProgramData\\Anaconda3\\lib\\site-packages\\ipykernel_launcher.py:27: UserWarning: Update your `Dense` call to the Keras 2 API: `Dense(activation=\"sigmoid\", units=1)`\n"
     ]
    }
   ],
   "source": [
    "# Step 3: Building the Convolutional Neural Network\n",
    "\n",
    "# Initialization\n",
    "classifier = Sequential()\n",
    "\n",
    "# FIRST LAYER\n",
    "# Convolution\n",
    "classifier.add(Convolution2D(32, 3, 3, input_shape=(64, 64,3), activation = 'relu'))\n",
    "# Pooling\n",
    "classifier.add(MaxPooling2D(pool_size=(2, 2)))\n",
    "\n",
    "# SECOND LAYER\n",
    "classifier.add(Convolution2D(32, 3, 3))\n",
    "classifier.add(Activation('relu'))\n",
    "classifier.add(MaxPooling2D(pool_size=(2, 2)))\n",
    "\n",
    "# THIRD LAYER\n",
    "classifier.add(Convolution2D(64, 3, 3))\n",
    "classifier.add(Activation('relu'))\n",
    "classifier.add(MaxPooling2D(pool_size=(2, 2)))\n",
    "\n",
    "# Flattening\n",
    "classifier.add(Flatten())\n",
    "\n",
    "# Step 4: Full connection\n",
    "classifier.add(Dense(output_dim = 128, activation = 'relu'))\n",
    "classifier.add(Dense(output_dim = 1, activation = 'sigmoid'))\n",
    "\n",
    "# Compiling CNN\n",
    "classifier.compile(optimizer='adam', loss='binary_crossentropy', metrics=['accuracy'])"
   ]
  },
  {
   "cell_type": "code",
   "execution_count": 6,
   "metadata": {},
   "outputs": [
    {
     "name": "stdout",
     "output_type": "stream",
     "text": [
      "Found 0 images belonging to 0 classes.\n",
      "Found 0 images belonging to 0 classes.\n"
     ]
    }
   ],
   "source": [
    "# Step 5: Data Augmentation\n",
    "\n",
    "data_genenerator = ImageDataGenerator(rescale=1./255)\n",
    "\n",
    "train_generator = data_genenerator.flow_from_directory(\n",
    "        'C:\\\\Users\\\\marcosvlp\\\\Desktop\\\\CNN_ImageClassifier-master\\\\img\\\\train',\n",
    "        target_size = (64, 64), # Change to the size of the CT image\n",
    "        batch_size = 16,\n",
    "        class_mode = 'binary')\n",
    "\n",
    "test_generator = data_genenerator.flow_from_directory(\n",
    "        'C:\\\\Users\\\\marcosvlp\\\\Desktop\\\\CNN_ImageClassifier-master\\\\img\\\\test',\n",
    "        target_size = (64, 64), # Change to the size of the CT image\n",
    "        batch_size = 32,\n",
    "        class_mode = 'binary')"
   ]
  },
  {
   "cell_type": "code",
   "execution_count": null,
   "metadata": {},
   "outputs": [
    {
     "name": "stdout",
     "output_type": "stream",
     "text": [
      "Epoch 1/10\n"
     ]
    }
   ],
   "source": [
    "# Step 6: Training the network\n",
    "#from PIL import Image\n",
    "\n",
    "classifier.fit_generator(\n",
    "    train_generator,\n",
    "    steps_per_epoch=150,\n",
    "    epochs=10,\n",
    "    validation_data=test_generator,\n",
    "    validation_steps=50\n",
    ")"
   ]
  },
  {
   "cell_type": "code",
   "execution_count": null,
   "metadata": {
    "collapsed": true
   },
   "outputs": [],
   "source": [
    "# Step 7: Testing\n",
    "from keras.preprocessing import image\n",
    "\n",
    "test_image = image.load_img('C:\\\\Users\\\\marcosvlp\\\\Desktop\\\\CNN_ImageClassifier-master\\\\img\\\\test\\\\0\\\\LIDC-IDRI-0006.dcm.png', target_size=(64, 64))\n",
    "\n",
    "test_image = image.img_to_array(test_image)\n",
    "test_image = np.expand_dims(test_image, axis=0) * 1./255\n",
    "\n",
    "prediction = classifier.predict(test_image)\n",
    "print(prediction)\n",
    "if (prediction[0][0] >= 0.5):\n",
    "    print(\"tumor\")\n",
    "else:\n",
    "    print(\"nÃ£o tumor\")\n"
   ]
  },
  {
   "cell_type": "code",
   "execution_count": null,
   "metadata": {
    "collapsed": true
   },
   "outputs": [],
   "source": []
  }
 ],
 "metadata": {
  "kernelspec": {
   "display_name": "Python 3",
   "language": "python",
   "name": "python3"
  },
  "language_info": {
   "codemirror_mode": {
    "name": "ipython",
    "version": 3
   },
   "file_extension": ".py",
   "mimetype": "text/x-python",
   "name": "python",
   "nbconvert_exporter": "python",
   "pygments_lexer": "ipython3",
   "version": "3.6.2"
  }
 },
 "nbformat": 4,
 "nbformat_minor": 2
}
